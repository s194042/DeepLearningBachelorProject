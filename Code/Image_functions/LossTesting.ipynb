{
 "cells": [
  {
   "cell_type": "code",
   "execution_count": null,
   "metadata": {},
   "outputs": [],
   "source": []
  },
  {
   "cell_type": "code",
   "execution_count": 1,
   "metadata": {},
   "outputs": [],
   "source": [
    "import torch\n",
    "import matplotlib.pyplot as plt\n",
    "from pytorch_msssim import SSIM\n",
    "import numpy as np\n",
    "import images\n",
    "import augmentations\n",
    "import torchvision\n",
    "import torch.nn as nn\n",
    "image = torchvision.io.read_image(\"../../Data/Kodak/kodim01.png\")\n",
    "\n",
    "\n",
    "\n",
    "\n",
    "class SSIM_Loss(SSIM):\n",
    "    def forward(self, img1, img2):\n",
    "        self.data_range=1.0\n",
    "        return (super(SSIM_Loss, self).forward(img1, img2))\n",
    "    \n",
    "\n"
   ]
  },
  {
   "cell_type": "code",
   "execution_count": 2,
   "metadata": {},
   "outputs": [],
   "source": [
    "WHITE222 = torch.ones((1,3,512,768), device=\"cuda\") * 222 / 255\n",
    "WHITE253 = torch.ones((1,3,512,768), device=\"cuda\") * 253 / 255\n",
    "WHITE255 = torch.ones((1,3,512,768), device=\"cuda\") * 255 / 255\n",
    "GREY128 = torch.ones((1,3,512,768), device=\"cuda\") * 128 / 255\n",
    "GREY130 = torch.ones((1,3,512,768), device=\"cuda\") * 130 / 255\n",
    "BLACK0 = torch.ones((1,3,512,768), device=\"cuda\") * 0 / 255\n",
    "BLACK2 = torch.ones((1,3,512,768), device=\"cuda\") * 2 / 255\n",
    "BLACK26 = torch.ones((1,3,512,768), device=\"cuda\") * 26 / 255\n",
    "test_images1 = [(WHITE253,WHITE255),(GREY128,GREY130),(BLACK0,BLACK2),(WHITE222,WHITE255),(BLACK0,BLACK26)]"
   ]
  },
  {
   "cell_type": "code",
   "execution_count": 3,
   "metadata": {},
   "outputs": [
    {
     "data": {
      "text/plain": [
       "[[tensor(1.0000, device='cuda:0'),\n",
       "  tensor(1.0000, device='cuda:0'),\n",
       "  tensor(0.6191, device='cuda:0'),\n",
       "  tensor(0.9903, device='cuda:0'),\n",
       "  tensor(0.0095, device='cuda:0')],\n",
       " [tensor(6.1514e-05, device='cuda:0'),\n",
       "  tensor(6.1515e-05, device='cuda:0'),\n",
       "  tensor(6.1515e-05, device='cuda:0'),\n",
       "  tensor(0.0167, device='cuda:0'),\n",
       "  tensor(0.0104, device='cuda:0')]]"
      ]
     },
     "execution_count": 3,
     "metadata": {},
     "output_type": "execute_result"
    }
   ],
   "source": [
    "[[f(*im) for im in test_images1] for f in [SSIM_Loss().forward,nn.MSELoss()]]"
   ]
  },
  {
   "cell_type": "code",
   "execution_count": 4,
   "metadata": {},
   "outputs": [],
   "source": [
    "WHITE255 = torch.ones((1,3,512,768),dtype=torch.float64, device=\"cuda\") * 255 / 255\n",
    "CYAN = torch.tensor(np.array([np.ones((512,768)) * x for x in [0.56,1,1]]), device=\"cuda\").unsqueeze(0)\n",
    "PINK = torch.tensor(np.array([np.ones((512,768)) * x for x in [1,0.78,1]]), device=\"cuda\").unsqueeze(0)\n",
    "YELLOW = torch.tensor(np.array([np.ones((512,768)) * x for x in [1,1,0]]), device=\"cuda\").unsqueeze(0)\n",
    "test_images2 = [(WHITE255,CYAN),(WHITE255,PINK),(WHITE255,YELLOW)]\n"
   ]
  },
  {
   "cell_type": "code",
   "execution_count": 5,
   "metadata": {},
   "outputs": [
    {
     "data": {
      "text/plain": [
       "[[tensor(0.9509, device='cuda:0', dtype=torch.float64),\n",
       "  tensor(0.9900, device='cuda:0', dtype=torch.float64),\n",
       "  tensor(0.6667, device='cuda:0', dtype=torch.float64)],\n",
       " [tensor(0.0645, device='cuda:0', dtype=torch.float64),\n",
       "  tensor(0.0161, device='cuda:0', dtype=torch.float64),\n",
       "  tensor(0.3333, device='cuda:0', dtype=torch.float64)]]"
      ]
     },
     "execution_count": 5,
     "metadata": {},
     "output_type": "execute_result"
    }
   ],
   "source": [
    "[[f(*im) for im in test_images2] for f in [SSIM_Loss().forward,nn.MSELoss()]]\n"
   ]
  },
  {
   "cell_type": "code",
   "execution_count": 6,
   "metadata": {},
   "outputs": [
    {
     "name": "stdout",
     "output_type": "stream",
     "text": [
      "torch.Size([512, 768, 3])\n"
     ]
    }
   ],
   "source": [
    "images = images.get_all_images_without_anything()\n",
    "image = 0\n",
    "for i in images:\n",
    "    image = i\n",
    "    break\n",
    "print(image.shape)\n",
    "randn = torch.randn((512,768,3), device=\"cuda\")\n",
    "SCALAR_ADD = augmentations.uniform_add(image,15.)\n",
    "SCALAR_MUL = augmentations.uniform_decimal_multiplication(image,0.8)\n",
    "EXP_NOISE = augmentations.Exp_noice(image,randn,3)\n",
    "BOX_BLUR = augmentations.salt(image,randn,1)\n",
    "UNSHARP_MASK = augmentations.Unsharp_masking_5x5(image,1)"
   ]
  }
 ],
 "metadata": {
  "kernelspec": {
   "display_name": ".env",
   "language": "python",
   "name": "python3"
  },
  "language_info": {
   "codemirror_mode": {
    "name": "ipython",
    "version": 3
   },
   "file_extension": ".py",
   "mimetype": "text/x-python",
   "name": "python",
   "nbconvert_exporter": "python",
   "pygments_lexer": "ipython3",
   "version": "3.9.16"
  },
  "orig_nbformat": 4
 },
 "nbformat": 4,
 "nbformat_minor": 2
}
