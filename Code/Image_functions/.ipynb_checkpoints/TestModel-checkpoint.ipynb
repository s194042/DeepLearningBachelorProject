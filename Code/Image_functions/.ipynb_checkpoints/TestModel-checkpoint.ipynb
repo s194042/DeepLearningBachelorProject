{
 "cells": [
  {
   "cell_type": "code",
   "execution_count": null,
   "metadata": {},
   "outputs": [],
   "source": [
    "import shutil\n",
    "import torch\n",
    "import torch.nn as nn\n",
    "import numpy as np\n",
    "import sys\n",
    "import os \n",
    "torch.manual_seed(100)\n",
    "np.random.seed(100)\n",
    "import compress_entropy\n",
    "import generateCompressionImages\n",
    "from torch.cuda.amp import autocast\n",
    "from torch.cuda.amp import GradScaler\n",
    "from JPEGAndEntropyEncoding import *\n",
    "\n",
    "device = torch.device(\"cuda\" if torch.cuda.is_available() else \"cpu\")\n",
    "\n",
    "model = compress_entropy.Compress().to(device).to(memory_format=torch.channels_last)\n",
    "\n",
    "#model.load_state_dict(torch.load(\"./FirstRun/Best/Bestbest_model.pt\")['state_dict'])\n",
    "model.load_state_dict(torch.load(\"./CE_L1_9/Checkpoints/CE_L1_9_21_checkpoint.pt\")['state_dict'])"
   ]
  },
  {
   "cell_type": "code",
   "execution_count": null,
   "metadata": {},
   "outputs": [],
   "source": [
    "model1 = compress_entropy.Compress().to(device).to(memory_format=torch.channels_last)\n",
    "model2 = compress_entropy.Compress().to(device).to(memory_format=torch.channels_last)\n",
    "\n",
    "#model.load_state_dict(torch.load(\"./FirstRun/Best/Bestbest_model.pt\")['state_dict'])\n",
    "model1.load_state_dict(torch.load(\"./CE_L1_2/Checkpoints/CE_L1_2_23_checkpoint.pt\")['state_dict'])\n",
    "model2.load_state_dict(torch.load(\"./CE_L1_9/Checkpoints/CE_L1_9_21_checkpoint.pt\")['state_dict'])\n",
    "from matplotlib import pyplot as plt\n",
    "imgs = generateCompressionImages.get_images_without_flips_and_cuts(\"/work3/s194042/DeepLearningBachelorProject/Code/Image_functions/IMAGE_NEF/IMAGES_1/\")\n",
    "a=0\n",
    "b=0\n",
    "for img in imgs:\n",
    "    if a < 10:\n",
    "        a += 1\n",
    "        continue\n",
    "    a, b = img\n",
    "    a = model1(torch.unsqueeze(a,0))\n",
    "    b = model2(torch.unsqueeze(b,0))\n",
    "    break\n",
    "a = torch.squeeze(a)\n",
    "a = a.permute(1,2,0)\n",
    "a = torch.add(torch.multiply(a,128), 128)\n",
    "a = a.detach().cpu().numpy()\n",
    "np.clip(a, a_min=0, a_max=255, out=a)\n",
    "a = np.rint(a)\n",
    "a = a.astype(np.uint8)\n",
    "\n",
    "b = torch.squeeze(b)\n",
    "b = b.permute(1,2,0)\n",
    "b = torch.add(torch.multiply(b,128), 128)\n",
    "b = b.detach().cpu().numpy()\n",
    "np.clip(b, a_min=0, a_max=255, out=b)\n",
    "b = np.rint(b)\n",
    "b = b.astype(np.uint8)\n",
    "f, ax = plt.subplots(1,2,figsize=(15, 30))\n",
    "ax[0].imshow(a)\n",
    "ax[1].imshow(b)\n",
    "plt.show()"
   ]
  },
  {
   "cell_type": "code",
   "execution_count": null,
   "metadata": {},
   "outputs": [],
   "source": [
    "from matplotlib import pyplot as plt\n",
    "imgs = generateCompressionImages.get_images_without_flips_and_cuts(\"/work3/s194042/DeepLearningBachelorProject/Code/Image_functions/IMAGE_NEF/IMAGES_1/\")\n",
    "a=0\n",
    "b=0\n",
    "for img in imgs:\n",
    "    if a < 5:\n",
    "        a += 1\n",
    "        continue\n",
    "    a, b = img\n",
    "    a = model(torch.unsqueeze(a,0))\n",
    "    break\n",
    "a = torch.squeeze(a)\n",
    "a = a.permute(1,2,0)\n",
    "a = torch.add(torch.multiply(a,128), 128)\n",
    "a = a.detach().cpu().numpy()\n",
    "np.clip(a, a_min=0, a_max=255, out=a)\n",
    "a = np.rint(a)\n",
    "a = a.astype(np.uint8)\n",
    "\n",
    "\n",
    "b = b.permute(1,2,0)\n",
    "b = torch.add(torch.multiply(b,128), 128)\n",
    "b = b.detach().cpu().numpy()\n",
    "np.clip(b, a_min=0, a_max=255, out=b)\n",
    "b = np.rint(b)\n",
    "b = b.astype(np.uint8)\n",
    "f, ax = plt.subplots(1,2,figsize=(15, 30))\n",
    "ax[0].imshow(a)\n",
    "ax[1].imshow(b)\n",
    "plt.show()"
   ]
  },
  {
   "cell_type": "code",
   "execution_count": null,
   "metadata": {},
   "outputs": [],
   "source": [
    "model = compress_entropy.Compress().to(device).to(memory_format=torch.channels_last)\n",
    "\n",
    "#model.load_state_dict(torch.load(\"./FirstRun/Best/Bestbest_model.pt\")['state_dict'])\n",
    "model.load_state_dict(torch.load(\"./CE_L1_2/Checkpoints/CE_L1_2_23_checkpoint.pt\")['state_dict'])\n",
    "from matplotlib import pyplot as plt\n",
    "imgs = generateCompressionImages.get_images_without_flips_and_cuts(\"/work3/s194042/DeepLearningBachelorProject/Code/Image_functions/IMAGE_NEF/IMAGES_1/\")\n",
    "a=0\n",
    "b=0\n",
    "for img in imgs:\n",
    "    if a < 5:\n",
    "        a += 1\n",
    "        continue\n",
    "    a, b = img\n",
    "    a = model(torch.unsqueeze(a,0))\n",
    "    break\n",
    "a = torch.squeeze(a)\n",
    "a = a.permute(1,2,0)\n",
    "a = torch.add(torch.multiply(a,128), 128)\n",
    "a = a.detach().cpu().numpy()\n",
    "np.clip(a, a_min=0, a_max=255, out=a)\n",
    "a = np.rint(a)\n",
    "a = a.astype(np.uint8)\n",
    "\n",
    "\n",
    "b = b.permute(1,2,0)\n",
    "b = torch.add(torch.multiply(b,128), 128)\n",
    "b = b.detach().cpu().numpy()\n",
    "np.clip(b, a_min=0, a_max=255, out=b)\n",
    "b = np.rint(b)\n",
    "b = b.astype(np.uint8)\n",
    "f, ax = plt.subplots(1,2,figsize=(15, 30))\n",
    "ax[0].imshow(a)\n",
    "ax[1].imshow(b)\n",
    "plt.show()"
   ]
  },
  {
   "cell_type": "code",
   "execution_count": null,
   "metadata": {},
   "outputs": [],
   "source": [
    "imgs = generateCompressionImages.get_images_without_flips_and_cuts(\"/work3/s194042/DeepLearningBachelorProject/Code/Image_functions/IMAGE_NEF/IMAGES_1/\")\n",
    "a=0\n",
    "b=0\n",
    "for img in imgs:\n",
    "    if a < 5:\n",
    "        a += 1\n",
    "        continue\n",
    "    a, b = img\n",
    "    a = model.encode(torch.unsqueeze(a,0))\n",
    "    break\n"
   ]
  },
  {
   "cell_type": "code",
   "execution_count": null,
   "metadata": {},
   "outputs": [],
   "source": [
    "len(arith_encode_latent_layer(a.flatten(),\"\")) / 8"
   ]
  },
  {
   "cell_type": "code",
   "execution_count": null,
   "metadata": {},
   "outputs": [],
   "source": [
    "80000 / (512 * 768 * 3)"
   ]
  },
  {
   "cell_type": "code",
   "execution_count": null,
   "metadata": {},
   "outputs": [],
   "source": [
    "arith_encode_latent_layer(a.flatten(),\"\")"
   ]
  },
  {
   "cell_type": "code",
   "execution_count": null,
   "metadata": {},
   "outputs": [],
   "source": [
    "a.flatten()[0:100]"
   ]
  },
  {
   "cell_type": "code",
   "execution_count": null,
   "metadata": {},
   "outputs": [],
   "source": []
  }
 ],
 "metadata": {
  "kernelspec": {
   "display_name": "Python 3 (ipykernel)",
   "language": "python",
   "name": "python3"
  },
  "language_info": {
   "codemirror_mode": {
    "name": "ipython",
    "version": 3
   },
   "file_extension": ".py",
   "mimetype": "text/x-python",
   "name": "python",
   "nbconvert_exporter": "python",
   "pygments_lexer": "ipython3",
   "version": "3.9.14"
  }
 },
 "nbformat": 4,
 "nbformat_minor": 2
}
