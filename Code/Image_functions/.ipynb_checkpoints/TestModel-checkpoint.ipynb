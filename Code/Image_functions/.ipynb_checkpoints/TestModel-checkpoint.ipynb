{
 "cells": [
  {
   "cell_type": "code",
   "execution_count": 1,
   "metadata": {},
   "outputs": [
    {
     "data": {
      "text/plain": [
       "<All keys matched successfully>"
      ]
     },
     "execution_count": 1,
     "metadata": {},
     "output_type": "execute_result"
    }
   ],
   "source": [
    "import shutil\n",
    "import torch\n",
    "import torch.nn as nn\n",
    "import numpy as np\n",
    "import sys\n",
    "import os \n",
    "torch.manual_seed(100)\n",
    "np.random.seed(100)\n",
    "import compress_entropy\n",
    "import generateCompressionImages\n",
    "from torch.cuda.amp import autocast\n",
    "from torch.cuda.amp import GradScaler\n",
    "from JPEGAndEntropyEncoding import *\n",
    "\n",
    "device = torch.device(\"cuda\" if torch.cuda.is_available() else \"cpu\")\n",
    "\n",
    "model = compress_entropy.Compress().to(device).to(memory_format=torch.channels_last)\n",
    "\n",
    "#model.load_state_dict(torch.load(\"./FirstRun/Best/Bestbest_model.pt\")['state_dict'])\n",
    "model.load_state_dict(torch.load(\"./CE_L1_9/Checkpoints/CE_L1_9_21_checkpoint.pt\")['state_dict'])"
   ]
  },
  {
   "cell_type": "code",
   "execution_count": 2,
   "metadata": {},
   "outputs": [
    {
     "ename": "FileNotFoundError",
     "evalue": "[Errno 2] No such file or directory: './CE_L1_10/Checkpoints/CE_L1_11_22_checkpoint.pt'",
     "output_type": "error",
     "traceback": [
      "\u001b[0;31m---------------------------------------------------------------------------\u001b[0m",
      "\u001b[0;31mFileNotFoundError\u001b[0m                         Traceback (most recent call last)",
      "Cell \u001b[0;32mIn[2], line 6\u001b[0m\n\u001b[1;32m      4\u001b[0m \u001b[38;5;66;03m#model.load_state_dict(torch.load(\"./FirstRun/Best/Bestbest_model.pt\")['state_dict'])\u001b[39;00m\n\u001b[1;32m      5\u001b[0m model1\u001b[38;5;241m.\u001b[39mload_state_dict(torch\u001b[38;5;241m.\u001b[39mload(\u001b[38;5;124m\"\u001b[39m\u001b[38;5;124m./CE_L1_2/Checkpoints/CE_L1_2_23_checkpoint.pt\u001b[39m\u001b[38;5;124m\"\u001b[39m)[\u001b[38;5;124m'\u001b[39m\u001b[38;5;124mstate_dict\u001b[39m\u001b[38;5;124m'\u001b[39m])\n\u001b[0;32m----> 6\u001b[0m model2\u001b[38;5;241m.\u001b[39mload_state_dict(\u001b[43mtorch\u001b[49m\u001b[38;5;241;43m.\u001b[39;49m\u001b[43mload\u001b[49m\u001b[43m(\u001b[49m\u001b[38;5;124;43m\"\u001b[39;49m\u001b[38;5;124;43m./CE_L1_10/Checkpoints/CE_L1_11_22_checkpoint.pt\u001b[39;49m\u001b[38;5;124;43m\"\u001b[39;49m\u001b[43m)\u001b[49m[\u001b[38;5;124m'\u001b[39m\u001b[38;5;124mstate_dict\u001b[39m\u001b[38;5;124m'\u001b[39m])\n\u001b[1;32m      7\u001b[0m \u001b[38;5;28;01mfrom\u001b[39;00m \u001b[38;5;21;01mmatplotlib\u001b[39;00m \u001b[38;5;28;01mimport\u001b[39;00m pyplot \u001b[38;5;28;01mas\u001b[39;00m plt\n\u001b[1;32m      8\u001b[0m imgs \u001b[38;5;241m=\u001b[39m generateCompressionImages\u001b[38;5;241m.\u001b[39mget_images_without_flips_and_cuts(\u001b[38;5;124m\"\u001b[39m\u001b[38;5;124m/work3/s194042/DeepLearningBachelorProject/Code/Image_functions/IMAGE_NEF/IMAGES_1/\u001b[39m\u001b[38;5;124m\"\u001b[39m)\n",
      "File \u001b[0;32m/work3/s194042/.env/lib/python3.9/site-packages/torch/serialization.py:791\u001b[0m, in \u001b[0;36mload\u001b[0;34m(f, map_location, pickle_module, weights_only, **pickle_load_args)\u001b[0m\n\u001b[1;32m    788\u001b[0m \u001b[38;5;28;01mif\u001b[39;00m \u001b[38;5;124m'\u001b[39m\u001b[38;5;124mencoding\u001b[39m\u001b[38;5;124m'\u001b[39m \u001b[38;5;129;01mnot\u001b[39;00m \u001b[38;5;129;01min\u001b[39;00m pickle_load_args\u001b[38;5;241m.\u001b[39mkeys():\n\u001b[1;32m    789\u001b[0m     pickle_load_args[\u001b[38;5;124m'\u001b[39m\u001b[38;5;124mencoding\u001b[39m\u001b[38;5;124m'\u001b[39m] \u001b[38;5;241m=\u001b[39m \u001b[38;5;124m'\u001b[39m\u001b[38;5;124mutf-8\u001b[39m\u001b[38;5;124m'\u001b[39m\n\u001b[0;32m--> 791\u001b[0m \u001b[38;5;28;01mwith\u001b[39;00m \u001b[43m_open_file_like\u001b[49m\u001b[43m(\u001b[49m\u001b[43mf\u001b[49m\u001b[43m,\u001b[49m\u001b[43m \u001b[49m\u001b[38;5;124;43m'\u001b[39;49m\u001b[38;5;124;43mrb\u001b[39;49m\u001b[38;5;124;43m'\u001b[39;49m\u001b[43m)\u001b[49m \u001b[38;5;28;01mas\u001b[39;00m opened_file:\n\u001b[1;32m    792\u001b[0m     \u001b[38;5;28;01mif\u001b[39;00m _is_zipfile(opened_file):\n\u001b[1;32m    793\u001b[0m         \u001b[38;5;66;03m# The zipfile reader is going to advance the current file position.\u001b[39;00m\n\u001b[1;32m    794\u001b[0m         \u001b[38;5;66;03m# If we want to actually tail call to torch.jit.load, we need to\u001b[39;00m\n\u001b[1;32m    795\u001b[0m         \u001b[38;5;66;03m# reset back to the original position.\u001b[39;00m\n\u001b[1;32m    796\u001b[0m         orig_position \u001b[38;5;241m=\u001b[39m opened_file\u001b[38;5;241m.\u001b[39mtell()\n",
      "File \u001b[0;32m/work3/s194042/.env/lib/python3.9/site-packages/torch/serialization.py:271\u001b[0m, in \u001b[0;36m_open_file_like\u001b[0;34m(name_or_buffer, mode)\u001b[0m\n\u001b[1;32m    269\u001b[0m \u001b[38;5;28;01mdef\u001b[39;00m \u001b[38;5;21m_open_file_like\u001b[39m(name_or_buffer, mode):\n\u001b[1;32m    270\u001b[0m     \u001b[38;5;28;01mif\u001b[39;00m _is_path(name_or_buffer):\n\u001b[0;32m--> 271\u001b[0m         \u001b[38;5;28;01mreturn\u001b[39;00m \u001b[43m_open_file\u001b[49m\u001b[43m(\u001b[49m\u001b[43mname_or_buffer\u001b[49m\u001b[43m,\u001b[49m\u001b[43m \u001b[49m\u001b[43mmode\u001b[49m\u001b[43m)\u001b[49m\n\u001b[1;32m    272\u001b[0m     \u001b[38;5;28;01melse\u001b[39;00m:\n\u001b[1;32m    273\u001b[0m         \u001b[38;5;28;01mif\u001b[39;00m \u001b[38;5;124m'\u001b[39m\u001b[38;5;124mw\u001b[39m\u001b[38;5;124m'\u001b[39m \u001b[38;5;129;01min\u001b[39;00m mode:\n",
      "File \u001b[0;32m/work3/s194042/.env/lib/python3.9/site-packages/torch/serialization.py:252\u001b[0m, in \u001b[0;36m_open_file.__init__\u001b[0;34m(self, name, mode)\u001b[0m\n\u001b[1;32m    251\u001b[0m \u001b[38;5;28;01mdef\u001b[39;00m \u001b[38;5;21m__init__\u001b[39m(\u001b[38;5;28mself\u001b[39m, name, mode):\n\u001b[0;32m--> 252\u001b[0m     \u001b[38;5;28msuper\u001b[39m()\u001b[38;5;241m.\u001b[39m\u001b[38;5;21m__init__\u001b[39m(\u001b[38;5;28;43mopen\u001b[39;49m\u001b[43m(\u001b[49m\u001b[43mname\u001b[49m\u001b[43m,\u001b[49m\u001b[43m \u001b[49m\u001b[43mmode\u001b[49m\u001b[43m)\u001b[49m)\n",
      "\u001b[0;31mFileNotFoundError\u001b[0m: [Errno 2] No such file or directory: './CE_L1_10/Checkpoints/CE_L1_11_22_checkpoint.pt'"
     ]
    }
   ],
   "source": [
    "model1 = compress_entropy.Compress().to(device).to(memory_format=torch.channels_last)\n",
    "model2 = compress_entropy.Compress().to(device).to(memory_format=torch.channels_last)\n",
    "\n",
    "#model.load_state_dict(torch.load(\"./FirstRun/Best/Bestbest_model.pt\")['state_dict'])\n",
    "model1.load_state_dict(torch.load(\"./CE_L1_2/Checkpoints/CE_L1_2_23_checkpoint.pt\")['state_dict'])\n",
    "model2.load_state_dict(torch.load(\"./CE_L1_11/Checkpoints/CE_L1_11_22_checkpoint.pt\")['state_dict'])\n",
    "from matplotlib import pyplot as plt\n",
    "imgs = generateCompressionImages.get_images_without_flips_and_cuts(\"/work3/s194042/DeepLearningBachelorProject/Code/Image_functions/IMAGE_NEF/IMAGES_1/\")\n",
    "a=0\n",
    "b=0\n",
    "for img in imgs:\n",
    "    if a < 10:\n",
    "        a += 1\n",
    "        continue\n",
    "    a, b = img\n",
    "    a = model1(torch.unsqueeze(a,0))\n",
    "    b = model2(torch.unsqueeze(b,0))\n",
    "    break\n",
    "a = torch.squeeze(a)\n",
    "a = a.permute(1,2,0)\n",
    "a = torch.add(torch.multiply(a,128), 128)\n",
    "a = a.detach().cpu().numpy()\n",
    "np.clip(a, a_min=0, a_max=255, out=a)\n",
    "a = np.rint(a)\n",
    "a = a.astype(np.uint8)\n",
    "\n",
    "b = torch.squeeze(b)\n",
    "b = b.permute(1,2,0)\n",
    "b = torch.add(torch.multiply(b,128), 128)\n",
    "b = b.detach().cpu().numpy()\n",
    "np.clip(b, a_min=0, a_max=255, out=b)\n",
    "b = np.rint(b)\n",
    "print(np.isnan(b).any())\n",
    "b = b.astype(np.uint8)\n",
    "f, ax = plt.subplots(1,2,figsize=(15, 30))\n",
    "ax[0].imshow(a)\n",
    "ax[1].imshow(b)\n",
    "plt.show()"
   ]
  },
  {
   "cell_type": "code",
   "execution_count": null,
   "metadata": {},
   "outputs": [],
   "source": [
    "from matplotlib import pyplot as plt\n",
    "imgs = generateCompressionImages.get_images_without_flips_and_cuts(\"/work3/s194042/DeepLearningBachelorProject/Code/Image_functions/IMAGE_NEF/IMAGES_1/\")\n",
    "a=0\n",
    "b=0\n",
    "for img in imgs:\n",
    "    if a < 5:\n",
    "        a += 1\n",
    "        continue\n",
    "    a, b = img\n",
    "    a = model(torch.unsqueeze(a,0))\n",
    "    break\n",
    "a = torch.squeeze(a)\n",
    "a = a.permute(1,2,0)\n",
    "a = torch.add(torch.multiply(a,128), 128)\n",
    "a = a.detach().cpu().numpy()\n",
    "np.clip(a, a_min=0, a_max=255, out=a)\n",
    "a = np.rint(a)\n",
    "a = a.astype(np.uint8)\n",
    "\n",
    "\n",
    "b = b.permute(1,2,0)\n",
    "b = torch.add(torch.multiply(b,128), 128)\n",
    "b = b.detach().cpu().numpy()\n",
    "np.clip(b, a_min=0, a_max=255, out=b)\n",
    "b = np.rint(b)\n",
    "b = b.astype(np.uint8)\n",
    "f, ax = plt.subplots(1,2,figsize=(15, 30))\n",
    "ax[0].imshow(a)\n",
    "ax[1].imshow(b)\n",
    "plt.show()"
   ]
  },
  {
   "cell_type": "code",
   "execution_count": null,
   "metadata": {},
   "outputs": [],
   "source": [
    "model = compress_entropy.Compress().to(device).to(memory_format=torch.channels_last)\n",
    "\n",
    "#model.load_state_dict(torch.load(\"./FirstRun/Best/Bestbest_model.pt\")['state_dict'])\n",
    "model.load_state_dict(torch.load(\"./CE_L1_2/Checkpoints/CE_L1_2_23_checkpoint.pt\")['state_dict'])\n",
    "from matplotlib import pyplot as plt\n",
    "imgs = generateCompressionImages.get_images_without_flips_and_cuts(\"/work3/s194042/DeepLearningBachelorProject/Code/Image_functions/IMAGE_NEF/IMAGES_1/\")\n",
    "a=0\n",
    "b=0\n",
    "for img in imgs:\n",
    "    if a < 5:\n",
    "        a += 1\n",
    "        continue\n",
    "    a, b = img\n",
    "    a = model(torch.unsqueeze(a,0))\n",
    "    break\n",
    "a = torch.squeeze(a)\n",
    "a = a.permute(1,2,0)\n",
    "a = torch.add(torch.multiply(a,128), 128)\n",
    "a = a.detach().cpu().numpy()\n",
    "np.clip(a, a_min=0, a_max=255, out=a)\n",
    "a = np.rint(a)\n",
    "a = a.astype(np.uint8)\n",
    "\n",
    "\n",
    "b = b.permute(1,2,0)\n",
    "b = torch.add(torch.multiply(b,128), 128)\n",
    "b = b.detach().cpu().numpy()\n",
    "np.clip(b, a_min=0, a_max=255, out=b)\n",
    "b = np.rint(b)\n",
    "b = b.astype(np.uint8)\n",
    "f, ax = plt.subplots(1,2,figsize=(15, 30))\n",
    "ax[0].imshow(a)\n",
    "ax[1].imshow(b)\n",
    "plt.show()"
   ]
  },
  {
   "cell_type": "code",
   "execution_count": null,
   "metadata": {},
   "outputs": [],
   "source": [
    "imgs = generateCompressionImages.get_images_without_flips_and_cuts(\"/work3/s194042/DeepLearningBachelorProject/Code/Image_functions/IMAGE_NEF/IMAGES_1/\")\n",
    "a=0\n",
    "b=0\n",
    "for img in imgs:\n",
    "    if a < 5:\n",
    "        a += 1\n",
    "        continue\n",
    "    a, b = img\n",
    "    a = model.encode(torch.unsqueeze(a,0))\n",
    "    break\n"
   ]
  },
  {
   "cell_type": "code",
   "execution_count": null,
   "metadata": {},
   "outputs": [],
   "source": [
    "len(arith_encode_latent_layer(a.flatten(),\"\")) / 8"
   ]
  },
  {
   "cell_type": "code",
   "execution_count": null,
   "metadata": {},
   "outputs": [],
   "source": [
    "80000 / (512 * 768 * 3)"
   ]
  },
  {
   "cell_type": "code",
   "execution_count": null,
   "metadata": {},
   "outputs": [],
   "source": [
    "arith_encode_latent_layer(a.flatten(),\"\")"
   ]
  },
  {
   "cell_type": "code",
   "execution_count": null,
   "metadata": {},
   "outputs": [],
   "source": [
    "a.flatten()[0:100]"
   ]
  },
  {
   "cell_type": "code",
   "execution_count": null,
   "metadata": {},
   "outputs": [],
   "source": []
  }
 ],
 "metadata": {
  "kernelspec": {
   "display_name": "Python 3 (ipykernel)",
   "language": "python",
   "name": "python3"
  },
  "language_info": {
   "codemirror_mode": {
    "name": "ipython",
    "version": 3
   },
   "file_extension": ".py",
   "mimetype": "text/x-python",
   "name": "python",
   "nbconvert_exporter": "python",
   "pygments_lexer": "ipython3",
   "version": "3.9.14"
  }
 },
 "nbformat": 4,
 "nbformat_minor": 2
}
