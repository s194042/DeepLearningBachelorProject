{
 "cells": [
  {
   "cell_type": "code",
   "execution_count": 1,
   "metadata": {},
   "outputs": [
    {
     "data": {
      "text/plain": [
       "<All keys matched successfully>"
      ]
     },
     "execution_count": 1,
     "metadata": {},
     "output_type": "execute_result"
    }
   ],
   "source": [
    "import shutil\n",
    "import torch\n",
    "import torch.nn as nn\n",
    "import numpy as np\n",
    "import sys\n",
    "import os \n",
    "torch.manual_seed(100)\n",
    "np.random.seed(100)\n",
    "import compress_entropy\n",
    "import generateCompressionImages\n",
    "from torch.cuda.amp import autocast\n",
    "from torch.cuda.amp import GradScaler\n",
    "\n",
    "device = torch.device(\"cuda\" if torch.cuda.is_available() else \"cpu\")\n",
    "\n",
    "model = compress_entropy.Compress().to(device).to(memory_format=torch.channels_last)\n",
    "\n",
    "model.load_state_dict(torch.load(\"./FirstRun/Best/Bestbest_model.pt\")['state_dict'])"
   ]
  },
  {
   "cell_type": "code",
   "execution_count": 2,
   "metadata": {},
   "outputs": [
    {
     "data": {
      "text/plain": [
       "<generator object get_images_without_flips_and_cuts at 0x7f67809345f0>"
      ]
     },
     "execution_count": 2,
     "metadata": {},
     "output_type": "execute_result"
    }
   ],
   "source": [
    "generateCompressionImages.get_images_without_flips_and_cuts(\"/work3/s194042/DeepLearningBachelorProject/Code/Image_functions/IMAGE_NEF/IMAGES_1/\")"
   ]
  },
  {
   "cell_type": "code",
   "execution_count": 3,
   "metadata": {},
   "outputs": [
    {
     "ename": "TypeError",
     "evalue": "squeeze(): argument 'input' (position 1) must be Tensor, not int",
     "output_type": "error",
     "traceback": [
      "\u001b[0;31m---------------------------------------------------------------------------\u001b[0m",
      "\u001b[0;31mTypeError\u001b[0m                                 Traceback (most recent call last)",
      "Cell \u001b[0;32mIn[3], line 12\u001b[0m\n\u001b[1;32m     10\u001b[0m     a \u001b[38;5;241m=\u001b[39m model(torch\u001b[38;5;241m.\u001b[39munsqueeze(a,\u001b[38;5;241m0\u001b[39m))\n\u001b[1;32m     11\u001b[0m     \u001b[38;5;28;01mbreak\u001b[39;00m\n\u001b[0;32m---> 12\u001b[0m a \u001b[38;5;241m=\u001b[39m \u001b[43mtorch\u001b[49m\u001b[38;5;241;43m.\u001b[39;49m\u001b[43msqueeze\u001b[49m\u001b[43m(\u001b[49m\u001b[43ma\u001b[49m\u001b[43m)\u001b[49m\n\u001b[1;32m     13\u001b[0m a \u001b[38;5;241m=\u001b[39m a\u001b[38;5;241m.\u001b[39mpermute(\u001b[38;5;241m1\u001b[39m,\u001b[38;5;241m2\u001b[39m,\u001b[38;5;241m0\u001b[39m)\n\u001b[1;32m     14\u001b[0m a \u001b[38;5;241m=\u001b[39m torch\u001b[38;5;241m.\u001b[39madd(torch\u001b[38;5;241m.\u001b[39mmultiply(a,\u001b[38;5;241m128\u001b[39m), \u001b[38;5;241m128\u001b[39m)\n",
      "\u001b[0;31mTypeError\u001b[0m: squeeze(): argument 'input' (position 1) must be Tensor, not int"
     ]
    }
   ],
   "source": [
    "from matplotlib import pyplot as plt\n",
    "imgs = generateCompressionImages.get_images_without_flips_and_cuts(\"/work3/s194042/DeepLearningBachelorProject/Code/Image_functions/IMAGE_NEF/IMAGES_1/\")\n",
    "a=0\n",
    "b=0\n",
    "for img in imgs:\n",
    "    if a < 5:\n",
    "        a += 1\n",
    "        continue\n",
    "    a, b = img\n",
    "    a = model(torch.unsqueeze(a,0))\n",
    "    break\n",
    "a = torch.squeeze(a)\n",
    "a = a.permute(1,2,0)\n",
    "a = torch.add(torch.multiply(a,128), 128)\n",
    "a = a.detach().cpu().numpy()\n",
    "np.clip(a, a_min=0, a_max=255, out=a)\n",
    "a = np.rint(a)\n",
    "a = a.astype(np.uint8)\n",
    "\n",
    "\n",
    "b = b.permute(1,2,0)\n",
    "b = torch.add(torch.multiply(b,128), 128)\n",
    "b = b.detach().cpu().numpy()\n",
    "np.clip(b, a_min=0, a_max=255, out=b)\n",
    "b = np.rint(b)\n",
    "b = b.astype(np.uint8)\n",
    "f, ax = plt.subplots(1,2,figsize=(15, 30))\n",
    "ax[0].imshow(a)\n",
    "ax[1].imshow(b)\n",
    "plt.show()"
   ]
  },
  {
   "cell_type": "code",
   "execution_count": null,
   "metadata": {},
   "outputs": [],
   "source": []
  }
 ],
 "metadata": {
  "kernelspec": {
   "display_name": "Python 3 (ipykernel)",
   "language": "python",
   "name": "python3"
  },
  "language_info": {
   "codemirror_mode": {
    "name": "ipython",
    "version": 3
   },
   "file_extension": ".py",
   "mimetype": "text/x-python",
   "name": "python",
   "nbconvert_exporter": "python",
   "pygments_lexer": "ipython3",
   "version": "3.9.14"
  }
 },
 "nbformat": 4,
 "nbformat_minor": 2
}
