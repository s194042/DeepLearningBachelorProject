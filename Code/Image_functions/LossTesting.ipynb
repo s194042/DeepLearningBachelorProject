{
 "cells": [
  {
   "cell_type": "code",
   "execution_count": 85,
   "metadata": {},
   "outputs": [],
   "source": [
    "import torch\n",
    "import matplotlib.pyplot as plt\n",
    "from pytorch_msssim import SSIM\n",
    "import numpy as np\n",
    "import augmentations\n",
    "import torchvision\n",
    "import torch.nn as nn\n",
    "image = torchvision.io.read_image(\"../../Data/Kodak/kodim01.png\")\n",
    "\n",
    "\n",
    "\n",
    "\n",
    "class SSIM_Loss(SSIM):\n",
    "    def forward(self, img1, img2):\n",
    "        self.data_range=1.0\n",
    "        return (super(SSIM_Loss, self).forward(img1, img2))\n",
    "    \n",
    "\n"
   ]
  },
  {
   "cell_type": "code",
   "execution_count": 79,
   "metadata": {},
   "outputs": [],
   "source": [
    "WHITE222 = torch.ones((1,3,512,768)) * 222 / 255\n",
    "WHITE253 = torch.ones((1,3,512,768)) * 253 / 255\n",
    "WHITE255 = torch.ones((1,3,512,768)) * 255 / 255\n",
    "GREY128 = torch.ones((1,3,512,768)) * 128 / 255\n",
    "GREY130 = torch.ones((1,3,512,768)) * 130 / 255\n",
    "BLACK0 = torch.ones((1,3,512,768)) * 0 / 255\n",
    "BLACK2 = torch.ones((1,3,512,768)) * 2 / 255\n",
    "BLACK26 = torch.ones((1,3,512,768)) * 26 / 255\n",
    "test_images1 = [(WHITE253,WHITE255),(GREY128,GREY130),(BLACK0,BLACK2),(WHITE222,WHITE255),(BLACK0,BLACK26)]"
   ]
  },
  {
   "cell_type": "code",
   "execution_count": 86,
   "metadata": {},
   "outputs": [
    {
     "data": {
      "text/plain": [
       "[[tensor(1.0000),\n",
       "  tensor(1.0000),\n",
       "  tensor(0.6191),\n",
       "  tensor(0.9905),\n",
       "  tensor(0.0095)],\n",
       " [tensor(6.1515e-05),\n",
       "  tensor(6.1515e-05),\n",
       "  tensor(6.1515e-05),\n",
       "  tensor(0.0167),\n",
       "  tensor(0.0104)]]"
      ]
     },
     "execution_count": 86,
     "metadata": {},
     "output_type": "execute_result"
    }
   ],
   "source": [
    "[[f(*im) for im in test_images1] for f in [SSIM_Loss().forward,nn.MSELoss()]]"
   ]
  },
  {
   "cell_type": "code",
   "execution_count": 89,
   "metadata": {},
   "outputs": [],
   "source": [
    "WHITE255 = torch.ones((1,3,512,768),dtype=torch.float64) * 255 / 255\n",
    "CYAN = torch.tensor(np.array([np.ones((512,768)) * x for x in [0.56,1,1]])).unsqueeze(0)\n",
    "PINK = torch.tensor(np.array([np.ones((512,768)) * x for x in [1,0.78,1]])).unsqueeze(0)\n",
    "YELLOW = torch.tensor(np.array([np.ones((512,768)) * x for x in [1,1,0]])).unsqueeze(0)\n",
    "test_images2 = [(WHITE255,CYAN),(WHITE255,PINK),(WHITE255,YELLOW)]\n"
   ]
  },
  {
   "cell_type": "code",
   "execution_count": 90,
   "metadata": {},
   "outputs": [
    {
     "data": {
      "text/plain": [
       "[[tensor(0.9509, dtype=torch.float64),\n",
       "  tensor(0.9900, dtype=torch.float64),\n",
       "  tensor(0.6667, dtype=torch.float64)],\n",
       " [tensor(0.0645, dtype=torch.float64),\n",
       "  tensor(0.0161, dtype=torch.float64),\n",
       "  tensor(0.3333, dtype=torch.float64)]]"
      ]
     },
     "execution_count": 90,
     "metadata": {},
     "output_type": "execute_result"
    }
   ],
   "source": [
    "[[f(*im) for im in test_images2] for f in [SSIM_Loss().forward,nn.MSELoss()]]\n"
   ]
  },
  {
   "cell_type": "code",
   "execution_count": 16,
   "metadata": {},
   "outputs": [
    {
     "ename": "RuntimeError",
     "evalue": "result type Float can't be cast to the desired output type unsigned char",
     "output_type": "error",
     "traceback": [
      "\u001b[0;31m---------------------------------------------------------------------------\u001b[0m",
      "\u001b[0;31mRuntimeError\u001b[0m                              Traceback (most recent call last)",
      "\u001b[1;32m/home/hhher/Desktop/Uni/Fourth semester - C. Software/DeepLearningBachelorProject/Code/Image_functions/LossTesting.ipynb Cell 5\u001b[0m in \u001b[0;36m<cell line: 1>\u001b[0;34m()\u001b[0m\n\u001b[0;32m----> <a href='vscode-notebook-cell:/home/hhher/Desktop/Uni/Fourth%20semester%20-%20C.%20Software/DeepLearningBachelorProject/Code/Image_functions/LossTesting.ipynb#W6sZmlsZQ%3D%3D?line=0'>1</a>\u001b[0m SCALAR_ADD \u001b[39m=\u001b[39m augmentations\u001b[39m.\u001b[39;49muniform_add(image,\u001b[39m15\u001b[39;49m)\n\u001b[1;32m      <a href='vscode-notebook-cell:/home/hhher/Desktop/Uni/Fourth%20semester%20-%20C.%20Software/DeepLearningBachelorProject/Code/Image_functions/LossTesting.ipynb#W6sZmlsZQ%3D%3D?line=1'>2</a>\u001b[0m image\n",
      "File \u001b[0;32m~/Desktop/Uni/Fourth semester - C. Software/DeepLearningBachelorProject/Code/Image_functions/augmentations.py:177\u001b[0m, in \u001b[0;36muniform_add\u001b[0;34m(image, amount)\u001b[0m\n\u001b[1;32m    175\u001b[0m \u001b[39mdef\u001b[39;00m \u001b[39muniform_add\u001b[39m(image, amount: \u001b[39mfloat\u001b[39m):\n\u001b[1;32m    176\u001b[0m     image_c \u001b[39m=\u001b[39m torch\u001b[39m.\u001b[39madd(torch\u001b[39m.\u001b[39mclone(image), amount)\n\u001b[0;32m--> 177\u001b[0m     torch\u001b[39m.\u001b[39;49mclamp(image_c, \u001b[39mmin\u001b[39;49m\u001b[39m=\u001b[39;49m\u001b[39m0.\u001b[39;49m, \u001b[39mmax\u001b[39;49m\u001b[39m=\u001b[39;49m\u001b[39m255.\u001b[39;49m, out\u001b[39m=\u001b[39;49mimage_c)\n\u001b[1;32m    178\u001b[0m     \u001b[39mreturn\u001b[39;00m image_c\n",
      "\u001b[0;31mRuntimeError\u001b[0m: result type Float can't be cast to the desired output type unsigned char"
     ]
    }
   ],
   "source": [
    "randn = torch.randn((512,768,3))\n",
    "SCALAR_ADD = augmentations.uniform_add(image,15)\n",
    "SCALAR_MUL = augmentations.uniform_decimal_multiplication(image,0.8)\n",
    "EXP_NOISE = augmentations.Exp_noice(image,randn,3)\n",
    "BOX_BLUR = augmentations.salt(image,randn,1)\n",
    "UNSHARP_MASK = augmentations.Unsharp_masking_5x5(image,1)"
   ]
  }
 ],
 "metadata": {
  "kernelspec": {
   "display_name": ".env",
   "language": "python",
   "name": "python3"
  },
  "language_info": {
   "codemirror_mode": {
    "name": "ipython",
    "version": 3
   },
   "file_extension": ".py",
   "mimetype": "text/x-python",
   "name": "python",
   "nbconvert_exporter": "python",
   "pygments_lexer": "ipython3",
   "version": "3.10.6"
  },
  "orig_nbformat": 4
 },
 "nbformat": 4,
 "nbformat_minor": 2
}
