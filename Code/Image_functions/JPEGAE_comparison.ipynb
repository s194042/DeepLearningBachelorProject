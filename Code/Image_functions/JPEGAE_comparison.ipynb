{
 "cells": [
  {
   "cell_type": "code",
   "execution_count": null,
   "metadata": {},
   "outputs": [],
   "source": [
    "import shutil\n",
    "import torch\n",
    "import torch.nn as nn\n",
    "import torchvision\n",
    "import numpy as np\n",
    "import sys\n",
    "import os \n",
    "torch.manual_seed(100)\n",
    "np.random.seed(100)\n",
    "import compress_entropy\n",
    "import generateCompressionImages\n",
    "from torch.cuda.amp import autocast\n",
    "from torch.cuda.amp import GradScaler\n",
    "from JPEGAndEntropyEncoding import *\n",
    "import matplotlib.pyplot as plt\n",
    "\n",
    "device = torch.device(\"cuda\" if torch.cuda.is_available() else \"cpu\")\n",
    "\n",
    "model = compress_entropy.Compress().to(device).to(memory_format=torch.channels_last)\n",
    "\n",
    "#model.load_state_dict(torch.load(\"./FirstRun/Best/Bestbest_model.pt\")['state_dict'])\n",
    "model.load_state_dict(torch.load(\"./CE_L1_14/Checkpoints/CE_L1_14_22_checkpoint.pt\")['state_dict'])"
   ]
  },
  {
   "cell_type": "code",
   "execution_count": null,
   "metadata": {},
   "outputs": [],
   "source": [
    "image = torchvision.io.image.read_image(\"../../Data/Kodak/kodim07.png\").permute(1,2,0).to(device=\"cuda\", dtype=torch.float32)\n",
    "\n",
    "a = model(torch.unsqueeze(image,0))\n",
    "b = model(torch.unsqueeze(image,0))\n",
    "\n",
    "a = torch.squeeze(a)\n",
    "a = a.permute(1,2,0)\n",
    "a = torch.add(torch.multiply(a,128), 128)\n",
    "a = a.detach().cpu().numpy()\n",
    "np.clip(a, a_min=0, a_max=255, out=a)\n",
    "a = np.rint(a)\n",
    "a = a.astype(np.uint8)\n",
    "\n",
    "b = torch.squeeze(b)\n",
    "b = b.permute(1,2,0)\n",
    "b = torch.add(torch.multiply(b,128), 128)\n",
    "b = b.detach().cpu().numpy()\n",
    "np.clip(b, a_min=0, a_max=255, out=b)\n",
    "b = np.rint(b)\n",
    "b = b.astype(np.uint8)\n",
    "f, ax = plt.subplots(1,2,figsize=(15, 30))\n",
    "ax[0].imshow(a)\n",
    "ax[1].imshow(b)\n",
    "plt.show()"
   ]
  }
 ],
 "metadata": {
  "language_info": {
   "name": "python"
  },
  "orig_nbformat": 4
 },
 "nbformat": 4,
 "nbformat_minor": 2
}
